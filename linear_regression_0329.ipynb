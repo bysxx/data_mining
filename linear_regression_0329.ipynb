{
  "cells": [
    {
      "cell_type": "markdown",
      "metadata": {
        "id": "view-in-github",
        "colab_type": "text"
      },
      "source": [
        "<a href=\"https://colab.research.google.com/github/bysxx/data_mining/blob/main/linear_regression_0329.ipynb\" target=\"_parent\"><img src=\"https://colab.research.google.com/assets/colab-badge.svg\" alt=\"Open In Colab\"/></a>"
      ]
    },
    {
      "cell_type": "markdown",
      "metadata": {
        "id": "KBHK2r1JGORf"
      },
      "source": [
        "**Q.1** \n",
        "\n",
        "Describe the null hypotheses to which the p-values given in Table 3.4 correspond. Explain what conclusions you can draw based on these p-values. Your explanation should be phrased in terms of sales, TV, radio, and newspaper, rather than in terms of the coefficients of the linear model.\n",
        "\n",
        "**A.**\n",
        "\n",
        "유의수준이 따로 정해져 있는 것은 아니나 TV, radio는 p-value가 매우 낮아 Sales와 관계가 없다는 귀무가설을 기각해 관계가 있을 가능성이 높고 newspaper는 귀무가설을 기각하지 못한다"
      ]
    },
    {
      "cell_type": "markdown",
      "metadata": {
        "id": "VpIEimnhGORi"
      },
      "source": [
        "**Q.3**\n",
        "\n",
        "Suppose we have a data set with five predictors, X1 = GPA, X2 = IQ,\n",
        "\n",
        "X3 = Gender (1 for Female and 0 for Male), X4 = Interaction between\n",
        "\n",
        "GPA and IQ, and X5 = Interaction between GPA and Gender. The\n",
        "\n",
        "response is starting salary after graduation (in thousands of dollars).\n",
        "\n",
        "Suppose we use least squares to fit the model, and get ˆβ0 = 50 , ˆβ1 =\n",
        "\n",
        "20, ˆβ2 = 0 .07, ˆβ3 = 35 , ˆβ4 = 0 .01, ˆβ5 = −10.\n",
        "\n",
        "(a) Which answer is correct, and why?\n",
        "\n",
        "i. For a fixed value of IQ and GPA, males earn more on average than females.\n",
        "\n",
        "ii. For a fixed value of IQ and GPA, females earn more on average than males.\n",
        "\n",
        "iii. For a fixed value of IQ and GPA, males earn more on average than females provided that the GPA is high enough.\n",
        "\n",
        "iv. For a fixed value of IQ and GPA, females earn more on average than males provided that the GPA is high enough.\n",
        "\n",
        "(b) Predict the salary of a female with IQ of 110 and a GPA of 4.0.\n",
        "\n",
        "(c) True or false: Since the coefficient for the GPA/IQ interaction term is very small, there is very little evidence of an interaction effect. Justify your answer\n",
        "\n",
        "```jsx\n",
        "def f(gpa, iq, gender):\n",
        "    return 50 + 20*gpa + 0.07*iq + 35*gender + 0.01*gpa*iq + (-10*gpa*gender)\n",
        "```\n",
        "\n",
        "**A.**\n",
        "\n",
        "(a) 정답은 iii로 GPA가 충분히 높다면 GPA와 gender의 상호작용 때문에 남자의 초봉이 더 높게 나타난다\n",
        "\n",
        "(b) 식에 gpa: 4.0, iq:110, gender: 1을 대입하면 \n",
        "\n",
        "50 + 20 * 4 + 0.07 * 110 + 35 * 1 + 0.01 * 4 * 110 + (-10) * 4 * 1  = 137.1\n",
        "\n",
        "137.1에 1000을 곱해 답은 $137100.0이다\n",
        "\n",
        "(c) 단순히 계수가 작다고해서  significance등을 고려해야하기 때문에 관계가 없다고 단정지을 수 없다."
      ]
    },
    {
      "cell_type": "markdown",
      "metadata": {
        "id": "iBhaG6z9GORj"
      },
      "source": [
        "**Q.11**\n",
        "this problem we will investigate the t-statistic for the null hypoth-esis H0 : β= 0 in simple linear regression without an intercept. To begin, we generate a predictor x and a response y as follows.\n",
        "\n",
        "```\n",
        "set.seed (1) \n",
        "x=rnorm (100) \n",
        "y=2*x+rnorm (100)\n",
        "```"
      ]
    },
    {
      "cell_type": "code",
      "execution_count": 21,
      "metadata": {
        "colab": {
          "base_uri": "https://localhost:8080/",
          "height": 283
        },
        "id": "QbDKvCCcGORk",
        "outputId": "c3e4e229-0277-4dc0-fa32-a0e71be12e14"
      },
      "outputs": [
        {
          "output_type": "execute_result",
          "data": {
            "text/plain": [
              "<Axes: >"
            ]
          },
          "metadata": {},
          "execution_count": 21
        },
        {
          "output_type": "display_data",
          "data": {
            "text/plain": [
              "<Figure size 432x288 with 1 Axes>"
            ],
            "image/png": "[encoded data removed]"
          },
          "metadata": {
            "needs_background": "light"
          }
        }
      ],
      "source": [
        "import numpy as np\n",
        "import seaborn as sns\n",
        "import pandas as pd\n",
        "from sklearn.linear_model import LinearRegression\n",
        "\n",
        "np.random.seed(1)\n",
        "\n",
        "x = np.random.normal(size=100)\n",
        "y = 2*x + np.random.normal(size=100)\n",
        "df = pd.DataFrame({'x': x, 'y': y})\n",
        "sns.scatterplot(x=x, y=y, color=\"b\")"
      ]
    },
    {
      "cell_type": "code",
      "execution_count": 22,
      "metadata": {
        "colab": {
          "base_uri": "https://localhost:8080/"
        },
        "id": "f7v9i71LGORl",
        "outputId": "d370f66d-64f9-4e24-8756-aba65192e21e"
      },
      "outputs": [
        {
          "output_type": "stream",
          "name": "stdout",
          "text": [
            "                                 OLS Regression Results                                \n",
            "=======================================================================================\n",
            "Dep. Variable:                      y   R-squared (uncentered):                   0.798\n",
            "Model:                            OLS   Adj. R-squared (uncentered):              0.796\n",
            "Method:                 Least Squares   F-statistic:                              391.7\n",
            "Date:                Wed, 29 Mar 2023   Prob (F-statistic):                    3.46e-36\n",
            "Time:                        02:22:49   Log-Likelihood:                         -135.67\n",
            "No. Observations:                 100   AIC:                                      273.3\n",
            "Df Residuals:                      99   BIC:                                      275.9\n",
            "Df Model:                           1                                                  \n",
            "Covariance Type:            nonrobust                                                  \n",
            "==============================================================================\n",
            "                 coef    std err          t      P>|t|      [0.025      0.975]\n",
            "------------------------------------------------------------------------------\n",
            "x1             2.1067      0.106     19.792      0.000       1.896       2.318\n",
            "==============================================================================\n",
            "Omnibus:                        0.880   Durbin-Watson:                   2.106\n",
            "Prob(Omnibus):                  0.644   Jarque-Bera (JB):                0.554\n",
            "Skew:                          -0.172   Prob(JB):                        0.758\n",
            "Kurtosis:                       3.119   Cond. No.                         1.00\n",
            "==============================================================================\n",
            "\n",
            "Notes:\n",
            "[1] R² is computed without centering (uncentered) since the model does not contain a constant.\n",
            "[2] Standard Errors assume that the covariance matrix of the errors is correctly specified.\n"
          ]
        }
      ],
      "source": [
        "import statsmodels.api as sm\n",
        "\n",
        "# a\n",
        "model_yx = sm.OLS(y, x).fit()\n",
        "print(model_yx.summary())"
      ]
    },
    {
      "cell_type": "code",
      "execution_count": 23,
      "metadata": {
        "colab": {
          "base_uri": "https://localhost:8080/"
        },
        "id": "TPUnOjiXGORm",
        "outputId": "4252de18-9aa3-4fab-b228-c27ea3baac4e"
      },
      "outputs": [
        {
          "output_type": "stream",
          "name": "stdout",
          "text": [
            "                                 OLS Regression Results                                \n",
            "=======================================================================================\n",
            "Dep. Variable:                      y   R-squared (uncentered):                   0.798\n",
            "Model:                            OLS   Adj. R-squared (uncentered):              0.796\n",
            "Method:                 Least Squares   F-statistic:                              391.7\n",
            "Date:                Wed, 29 Mar 2023   Prob (F-statistic):                    3.46e-36\n",
            "Time:                        02:22:49   Log-Likelihood:                         -49.891\n",
            "No. Observations:                 100   AIC:                                      101.8\n",
            "Df Residuals:                      99   BIC:                                      104.4\n",
            "Df Model:                           1                                                  \n",
            "Covariance Type:            nonrobust                                                  \n",
            "==============================================================================\n",
            "                 coef    std err          t      P>|t|      [0.025      0.975]\n",
            "------------------------------------------------------------------------------\n",
            "x1             0.3789      0.019     19.792      0.000       0.341       0.417\n",
            "==============================================================================\n",
            "Omnibus:                        0.476   Durbin-Watson:                   2.166\n",
            "Prob(Omnibus):                  0.788   Jarque-Bera (JB):                0.631\n",
            "Skew:                           0.115   Prob(JB):                        0.729\n",
            "Kurtosis:                       2.685   Cond. No.                         1.00\n",
            "==============================================================================\n",
            "\n",
            "Notes:\n",
            "[1] R² is computed without centering (uncentered) since the model does not contain a constant.\n",
            "[2] Standard Errors assume that the covariance matrix of the errors is correctly specified.\n"
          ]
        }
      ],
      "source": [
        "# b\n",
        "model_xy = sm.OLS(x, y).fit()\n",
        "print(model_xy.summary())"
      ]
    },
    {
      "cell_type": "markdown",
      "source": [
        "(c)\n",
        "\n",
        "(a)와 (b)의 결과 사이의 관계는 귀무가설(H0: β = 0)에 대한 t-검정 결과에 대한 것으로, 두 경우에서 t-검정 통계량과 p-값은 동일하다."
      ],
      "metadata": {
        "id": "wj39fkIcKZwr"
      }
    },
    {
      "cell_type": "code",
      "source": [
        "# d\n",
        "import numpy as np\n",
        "\n",
        "# 데이터 생성\n",
        "x = np.array([5, 7, 9, 11, 13])\n",
        "y = np.array([11, 13, 15, 17, 19])\n",
        "n = len(x)\n",
        "\n",
        "# 회귀분석 결과\n",
        "beta_hat = np.sum(x * y) / np.sum(x ** 2)\n",
        "se_beta_hat = np.sqrt(np.sum((y - beta_hat * x) ** 2) / (n - 1) / np.sum((x - np.mean(x)) ** 2))\n",
        "t_stat = beta_hat / se_beta_hat\n",
        "print(\"t-statistic: \", t_stat)"
      ],
      "metadata": {
        "colab": {
          "base_uri": "https://localhost:8080/"
        },
        "id": "ycnGko3UKnxN",
        "outputId": "2699ea23-b64e-4807-9b14-b256d798c451"
      },
      "execution_count": 24,
      "outputs": [
        {
          "output_type": "stream",
          "name": "stdout",
          "text": [
            "t-statistic:  5.05265656136365\n"
          ]
        }
      ]
    },
    {
      "cell_type": "code",
      "source": [
        "# e\n",
        "import numpy as np\n",
        "import pandas as pd\n",
        "import statsmodels.api as sm\n",
        "\n",
        "# 데이터 생성\n",
        "x = np.array([5, 7, 9, 11, 13])\n",
        "y = np.array([11, 13, 15, 17, 19])\n",
        "n = len(x)\n",
        "\n",
        "# 회귀분석 모델 적합\n",
        "model = sm.OLS(y, sm.add_constant(x))\n",
        "result = model.fit()\n",
        "\n",
        "# 결과 출력\n",
        "print(result.summary())"
      ],
      "metadata": {
        "colab": {
          "base_uri": "https://localhost:8080/"
        },
        "id": "efc6AQngKqhm",
        "outputId": "b9187970-49ac-4678-cacb-36de49917ca9"
      },
      "execution_count": 25,
      "outputs": [
        {
          "output_type": "stream",
          "name": "stdout",
          "text": [
            "                            OLS Regression Results                            \n",
            "==============================================================================\n",
            "Dep. Variable:                      y   R-squared:                       1.000\n",
            "Model:                            OLS   Adj. R-squared:                  1.000\n",
            "Method:                 Least Squares   F-statistic:                 4.089e+29\n",
            "Date:                Wed, 29 Mar 2023   Prob (F-statistic):           8.43e-45\n",
            "Time:                        02:22:49   Log-Likelihood:                 155.42\n",
            "No. Observations:                   5   AIC:                            -306.8\n",
            "Df Residuals:                       3   BIC:                            -307.6\n",
            "Df Model:                           1                                         \n",
            "Covariance Type:            nonrobust                                         \n",
            "==============================================================================\n",
            "                 coef    std err          t      P>|t|      [0.025      0.975]\n",
            "------------------------------------------------------------------------------\n",
            "const          6.0000   1.48e-14   4.07e+14      0.000       6.000       6.000\n",
            "x1             1.0000   1.56e-15   6.39e+14      0.000       1.000       1.000\n",
            "==============================================================================\n",
            "Omnibus:                          nan   Durbin-Watson:                   0.054\n",
            "Prob(Omnibus):                    nan   Jarque-Bera (JB):                0.642\n",
            "Skew:                           0.868   Prob(JB):                        0.725\n",
            "Kurtosis:                       2.729   Cond. No.                         31.8\n",
            "==============================================================================\n",
            "\n",
            "Notes:\n",
            "[1] Standard Errors assume that the covariance matrix of the errors is correctly specified.\n"
          ]
        },
        {
          "output_type": "stream",
          "name": "stderr",
          "text": [
            "/usr/local/lib/python3.9/dist-packages/statsmodels/stats/stattools.py:74: ValueWarning: omni_normtest is not valid with less than 8 observations; 5 samples were given.\n",
            "  warn(\"omni_normtest is not valid with less than 8 observations; %i \"\n"
          ]
        }
      ]
    },
    {
      "cell_type": "code",
      "source": [
        "# f\n",
        "plt.figure(figsize=(9, 9))\n",
        "\n",
        "beta_1 = np.sum((x - np.mean(x)) * (y - np.mean(y))) / np.sum((x - np.mean(x)) ** 2)\n",
        "\n",
        "# x와 y의 최소 제곱 회귀선 계수 계산\n",
        "b1, b0 = np.polyfit(x, y, deg=1)\n",
        "\n",
        "# x 범위에서의 최소 제곱 회귀선 계산\n",
        "x_plot = np.array([np.min(x), np.max(x)])\n",
        "y_plot = b0 + b1 * x_plot\n",
        "\n",
        "# x축과 y축 이름 설정\n",
        "plt.xlabel(\"x\")\n",
        "plt.ylabel(\"y\")\n",
        "\n",
        "# 산점도 그래프와 최소 제곱 회귀선 함께 그리기\n",
        "plt.plot(x, y, 'o', label=\"data\")\n",
        "plt.plot(x_plot, y_plot, label=\"least squares line\")\n",
        "\n",
        "# 모집단 회귀선 그리기\n",
        "plt.plot(x_plot, beta_1*x_plot, 'r', label=\"population regression line\")\n",
        "\n",
        "# 범례 추가\n",
        "plt.legend(loc=\"upper left\")"
      ],
      "metadata": {
        "colab": {
          "base_uri": "https://localhost:8080/",
          "height": 569
        },
        "id": "FBYubN5PKv5Z",
        "outputId": "1a3f4853-95db-4972-8632-9c8b2386c3c2"
      },
      "execution_count": 26,
      "outputs": [
        {
          "output_type": "execute_result",
          "data": {
            "text/plain": [
              "<matplotlib.legend.Legend at 0x7f0f8206b0a0>"
            ]
          },
          "metadata": {},
          "execution_count": 26
        },
        {
          "output_type": "display_data",
          "data": {
            "text/plain": [
              "<Figure size 648x648 with 1 Axes>"
            ],
            "image/png": "[encoded data removed]"
          },
          "metadata": {
            "needs_background": "light"
          }
        }
      ]
    },
    {
      "cell_type": "markdown",
      "source": [
        "13. In this exercise you will create some simulated data and will fit simple linear regression models to it. Make sure to use set.seed(1) prior to starting part (a) to ensure consistent results."
      ],
      "metadata": {
        "id": "UeFB3HQwKy-F"
      }
    },
    {
      "cell_type": "code",
      "source": [
        "# 13-(a)\n",
        "np.random.seed(1)\n",
        "mu, sigma = 0, 1\n",
        "x = np.random.normal(mu, sigma, 100)"
      ],
      "metadata": {
        "id": "iM5AdKhdH-jO"
      },
      "execution_count": 27,
      "outputs": []
    },
    {
      "cell_type": "code",
      "source": [
        "mu, sigma = 0, 0.5\n",
        "eps = np.random.normal(loc=0, scale=0.5, size=100)"
      ],
      "metadata": {
        "id": "XBVZChRvIKof"
      },
      "execution_count": 28,
      "outputs": []
    },
    {
      "cell_type": "code",
      "source": [
        "#(c)\n",
        "y = -1 + 0.5*x + eps\n",
        "beta_0 = -1\n",
        "beta_1 = 0.5\n",
        "print('y length: ' + str(np.linalg.norm(y)))"
      ],
      "metadata": {
        "colab": {
          "base_uri": "https://localhost:8080/"
        },
        "id": "Y-I0TWAFI8yC",
        "outputId": "b44bf6cd-f60f-4675-8d28-fbe57cc0a42d"
      },
      "execution_count": 29,
      "outputs": [
        {
          "output_type": "stream",
          "name": "stdout",
          "text": [
            "y length: 11.173260452749581\n"
          ]
        }
      ]
    },
    {
      "cell_type": "code",
      "source": [
        "# d\n",
        "import matplotlib.pyplot as plt\n",
        "\n",
        "plt.scatter(x, y)\n",
        "plt.xlabel(\"x\")\n",
        "plt.ylabel(\"y\")\n",
        "plt.show()"
      ],
      "metadata": {
        "colab": {
          "base_uri": "https://localhost:8080/",
          "height": 279
        },
        "id": "k7lLhuhoJFdb",
        "outputId": "81530abc-6c20-4d6f-ba07-097e3a574a6a"
      },
      "execution_count": 30,
      "outputs": [
        {
          "output_type": "display_data",
          "data": {
            "text/plain": [
              "<Figure size 432x288 with 1 Axes>"
            ],
            "image/png": "[encoded data removed]"
          },
          "metadata": {
            "needs_background": "light"
          }
        }
      ]
    },
    {
      "cell_type": "code",
      "source": [
        "# e\n",
        "import statsmodels.formula.api as smf\n",
        "\n",
        "model = smf.ols(formula='y ~ x', data=pd.DataFrame({'x':x, 'y':y})).fit()\n",
        "print(model.summary())"
      ],
      "metadata": {
        "colab": {
          "base_uri": "https://localhost:8080/"
        },
        "id": "kF27Y9kfLHzc",
        "outputId": "f197be83-5173-4fcd-cf9c-5505ad6e246c"
      },
      "execution_count": 31,
      "outputs": [
        {
          "output_type": "stream",
          "name": "stdout",
          "text": [
            "                            OLS Regression Results                            \n",
            "==============================================================================\n",
            "Dep. Variable:                      y   R-squared:                       0.522\n",
            "Model:                            OLS   Adj. R-squared:                  0.517\n",
            "Method:                 Least Squares   F-statistic:                     107.0\n",
            "Date:                Wed, 29 Mar 2023   Prob (F-statistic):           2.20e-17\n",
            "Time:                        02:22:51   Log-Likelihood:                -65.124\n",
            "No. Observations:                 100   AIC:                             134.2\n",
            "Df Residuals:                      98   BIC:                             139.5\n",
            "Df Model:                           1                                         \n",
            "Covariance Type:            nonrobust                                         \n",
            "==============================================================================\n",
            "                 coef    std err          t      P>|t|      [0.025      0.975]\n",
            "------------------------------------------------------------------------------\n",
            "Intercept     -0.9265      0.047    -19.717      0.000      -1.020      -0.833\n",
            "x              0.5477      0.053     10.342      0.000       0.443       0.653\n",
            "==============================================================================\n",
            "Omnibus:                        0.898   Durbin-Watson:                   2.157\n",
            "Prob(Omnibus):                  0.638   Jarque-Bera (JB):                0.561\n",
            "Skew:                          -0.172   Prob(JB):                        0.755\n",
            "Kurtosis:                       3.127   Cond. No.                         1.15\n",
            "==============================================================================\n",
            "\n",
            "Notes:\n",
            "[1] Standard Errors assume that the covariance matrix of the errors is correctly specified.\n"
          ]
        }
      ]
    },
    {
      "cell_type": "code",
      "source": [
        "# f\n",
        "y_pred = model.predict()\n",
        "y_act  = -1+(0.5*x)\n",
        "\n",
        "plt.figure(figsize=(8,8))\n",
        "ax = sns.scatterplot(x=x, y=y)\n",
        "plt.xlabel('x')\n",
        "plt.ylabel('y')\n",
        "ax.plot(x, model.predict(), color='r')\n",
        "ax.plot(x, -1+(0.5*x), color='y')\n",
        "ax.legend(['Least squares', 'Population regression']);"
      ],
      "metadata": {
        "colab": {
          "base_uri": "https://localhost:8080/",
          "height": 497
        },
        "id": "K0-4vww9LYrw",
        "outputId": "14ab96a0-40db-417a-f61d-d990dea05738"
      },
      "execution_count": 32,
      "outputs": [
        {
          "output_type": "display_data",
          "data": {
            "text/plain": [
              "<Figure size 576x576 with 1 Axes>"
            ],
            "image/png": "[encoded data removed]"
          },
          "metadata": {
            "needs_background": "light"
          }
        }
      ]
    },
    {
      "cell_type": "code",
      "source": [
        "# g\n",
        "f = 'y ~ x + np.square(x)'\n",
        "model = smf.ols(formula=f, data=pd.DataFrame({'x':x, 'y':y})).fit()\n",
        "print(model.summary())\n",
        "\n",
        "# predict\n",
        "y_pred = model.predict()\n",
        "y_act  = -1+(0.5*x)\n",
        "\n",
        "# plot\n",
        "plt.figure(figsize=(8,8))\n",
        "ax = sns.scatterplot(x=x, y=y)\n",
        "plt.xlabel('x')\n",
        "plt.ylabel('y')\n",
        "ax.plot(x, model.predict(), color='r')\n",
        "ax.plot(x, -1+(0.5*x), color='y')\n",
        "ax.legend(['Least squares quadratic', 'Population regression'])"
      ],
      "metadata": {
        "colab": {
          "base_uri": "https://localhost:8080/",
          "height": 999
        },
        "id": "b9lV0vF6LzmT",
        "outputId": "b795ee6b-d1b3-48e9-fad2-7f4fdacc3ed2"
      },
      "execution_count": 34,
      "outputs": [
        {
          "output_type": "stream",
          "name": "stdout",
          "text": [
            "                            OLS Regression Results                            \n",
            "==============================================================================\n",
            "Dep. Variable:                      y   R-squared:                       0.522\n",
            "Model:                            OLS   Adj. R-squared:                  0.512\n",
            "Method:                 Least Squares   F-statistic:                     52.96\n",
            "Date:                Wed, 29 Mar 2023   Prob (F-statistic):           2.83e-16\n",
            "Time:                        02:27:31   Log-Likelihood:                -65.107\n",
            "No. Observations:                 100   AIC:                             136.2\n",
            "Df Residuals:                      97   BIC:                             144.0\n",
            "Df Model:                           2                                         \n",
            "Covariance Type:            nonrobust                                         \n",
            "================================================================================\n",
            "                   coef    std err          t      P>|t|      [0.025      0.975]\n",
            "--------------------------------------------------------------------------------\n",
            "Intercept       -0.9325      0.058    -16.158      0.000      -1.047      -0.818\n",
            "x                0.5468      0.053     10.229      0.000       0.441       0.653\n",
            "np.square(x)     0.0077      0.043      0.181      0.856      -0.077       0.092\n",
            "==============================================================================\n",
            "Omnibus:                        0.893   Durbin-Watson:                   2.152\n",
            "Prob(Omnibus):                  0.640   Jarque-Bera (JB):                0.552\n",
            "Skew:                          -0.170   Prob(JB):                        0.759\n",
            "Kurtosis:                       3.132   Cond. No.                         2.10\n",
            "==============================================================================\n",
            "\n",
            "Notes:\n",
            "[1] Standard Errors assume that the covariance matrix of the errors is correctly specified.\n"
          ]
        },
        {
          "output_type": "execute_result",
          "data": {
            "text/plain": [
              "<matplotlib.legend.Legend at 0x7f0f81d50a60>"
            ]
          },
          "metadata": {},
          "execution_count": 34
        },
        {
          "output_type": "display_data",
          "data": {
            "text/plain": [
              "<Figure size 576x576 with 1 Axes>"
            ],
            "image/png": "[encoded data removed]"
          },
          "metadata": {
            "needs_background": "light"
          }
        }
      ]
    },
    {
      "cell_type": "markdown",
      "source": [
        "p-value > 0.05로 통계적 유의미하지 않으며\n",
        "R-squared값은 0.68로\n",
        "\n",
        "모델을 개선한다고 할 수 없다"
      ],
      "metadata": {
        "id": "RThFu0nBOqei"
      }
    },
    {
      "cell_type": "code",
      "source": [
        "# h\n",
        "np.random.seed(1)\n",
        "\n",
        "# generate x\n",
        "mu, sigma = 0, 1\n",
        "x = np.random.normal(mu, sigma, 100)\n",
        "\n",
        "# generate epsilon\n",
        "mu, sigma = 0, 0.05\n",
        "eps = np.random.normal(mu, sigma, 100)\n",
        "\n",
        "# generate y\n",
        "y = -1 + 0.5*x + eps\n",
        "print('y length: ' + str(np.linalg.norm(y)))\n",
        "\n",
        "# Fit model\n",
        "model = smf.ols(formula='y ~ x', data=pd.DataFrame({'x':x, 'y':y})).fit()\n",
        "print(model.summary())\n",
        "\n",
        "# Make predictions\n",
        "y_pred = model.predict()\n",
        "y_act  = -1+(0.5*x)\n",
        "\n",
        "# Plot results\n",
        "plt.figure(figsize=(8,8))\n",
        "ax = sns.scatterplot(x=x, y=y)\n",
        "plt.xlabel('x')\n",
        "plt.ylabel('y')\n",
        "ax.plot(x, model.predict(), color='r')\n",
        "ax.plot(x, -1+(0.5*x), color='y')\n",
        "ax.legend(['Least squares', 'Population regression']);"
      ],
      "metadata": {
        "colab": {
          "base_uri": "https://localhost:8080/",
          "height": 981
        },
        "id": "DX3UURKYM6PU",
        "outputId": "9c7e2ff8-1193-4cc1-e5b0-e8606bec39a2"
      },
      "execution_count": 35,
      "outputs": [
        {
          "output_type": "stream",
          "name": "stdout",
          "text": [
            "y length: 10.617729160380613\n",
            "                            OLS Regression Results                            \n",
            "==============================================================================\n",
            "Dep. Variable:                      y   R-squared:                       0.989\n",
            "Model:                            OLS   Adj. R-squared:                  0.989\n",
            "Method:                 Least Squares   F-statistic:                     9084.\n",
            "Date:                Wed, 29 Mar 2023   Prob (F-statistic):           1.97e-98\n",
            "Time:                        02:31:11   Log-Likelihood:                 165.13\n",
            "No. Observations:                 100   AIC:                            -326.3\n",
            "Df Residuals:                      98   BIC:                            -321.1\n",
            "Df Model:                           1                                         \n",
            "Covariance Type:            nonrobust                                         \n",
            "==============================================================================\n",
            "                 coef    std err          t      P>|t|      [0.025      0.975]\n",
            "------------------------------------------------------------------------------\n",
            "Intercept     -0.9926      0.005   -211.252      0.000      -1.002      -0.983\n",
            "x              0.5048      0.005     95.309      0.000       0.494       0.515\n",
            "==============================================================================\n",
            "Omnibus:                        0.898   Durbin-Watson:                   2.157\n",
            "Prob(Omnibus):                  0.638   Jarque-Bera (JB):                0.561\n",
            "Skew:                          -0.172   Prob(JB):                        0.755\n",
            "Kurtosis:                       3.127   Cond. No.                         1.15\n",
            "==============================================================================\n",
            "\n",
            "Notes:\n",
            "[1] Standard Errors assume that the covariance matrix of the errors is correctly specified.\n"
          ]
        },
        {
          "output_type": "display_data",
          "data": {
            "text/plain": [
              "<Figure size 576x576 with 1 Axes>"
            ],
            "image/png": "[encoded data removed]"
          },
          "metadata": {
            "needs_background": "light"
          }
        }
      ]
    },
    {
      "cell_type": "code",
      "source": [
        "# i\n",
        "np.random.seed(1)\n",
        "\n",
        "# generate x\n",
        "mu, sigma = 0, 1\n",
        "x = np.random.normal(mu, sigma, 100)\n",
        "\n",
        "# generate epsilon\n",
        "mu, sigma = 0, 0.5\n",
        "eps = np.random.normal(mu, sigma, 100)\n",
        "\n",
        "# generate y\n",
        "y = -1 + 0.5*x + eps\n",
        "print('y length: ' + str(np.linalg.norm(y)))\n",
        "\n",
        "# Fit model\n",
        "model = smf.ols(formula='y ~ x', data=pd.DataFrame({'x':x, 'y':y})).fit()\n",
        "print(model.summary())\n",
        "\n",
        "# Make predictions\n",
        "y_pred = model.predict()\n",
        "y_act  = -1+(0.5*x)\n",
        "\n",
        "# Plot results\n",
        "plt.figure(figsize=(8,8))\n",
        "ax = sns.scatterplot(x=x, y=y)\n",
        "plt.xlabel('x')\n",
        "plt.ylabel('y')\n",
        "ax.plot(x, model.predict(), color='r')\n",
        "ax.plot(x, -1+(0.5*x), color='y')\n",
        "ax.legend(['Least squares', 'Population regression']);"
      ],
      "metadata": {
        "colab": {
          "base_uri": "https://localhost:8080/",
          "height": 981
        },
        "id": "qfXK7DAjNxjK",
        "outputId": "72af8237-ace2-4060-dc06-99b7768e72b9"
      },
      "execution_count": 36,
      "outputs": [
        {
          "output_type": "stream",
          "name": "stdout",
          "text": [
            "y length: 11.173260452749581\n",
            "                            OLS Regression Results                            \n",
            "==============================================================================\n",
            "Dep. Variable:                      y   R-squared:                       0.522\n",
            "Model:                            OLS   Adj. R-squared:                  0.517\n",
            "Method:                 Least Squares   F-statistic:                     107.0\n",
            "Date:                Wed, 29 Mar 2023   Prob (F-statistic):           2.20e-17\n",
            "Time:                        02:34:16   Log-Likelihood:                -65.124\n",
            "No. Observations:                 100   AIC:                             134.2\n",
            "Df Residuals:                      98   BIC:                             139.5\n",
            "Df Model:                           1                                         \n",
            "Covariance Type:            nonrobust                                         \n",
            "==============================================================================\n",
            "                 coef    std err          t      P>|t|      [0.025      0.975]\n",
            "------------------------------------------------------------------------------\n",
            "Intercept     -0.9265      0.047    -19.717      0.000      -1.020      -0.833\n",
            "x              0.5477      0.053     10.342      0.000       0.443       0.653\n",
            "==============================================================================\n",
            "Omnibus:                        0.898   Durbin-Watson:                   2.157\n",
            "Prob(Omnibus):                  0.638   Jarque-Bera (JB):                0.561\n",
            "Skew:                          -0.172   Prob(JB):                        0.755\n",
            "Kurtosis:                       3.127   Cond. No.                         1.15\n",
            "==============================================================================\n",
            "\n",
            "Notes:\n",
            "[1] Standard Errors assume that the covariance matrix of the errors is correctly specified.\n"
          ]
        },
        {
          "output_type": "display_data",
          "data": {
            "text/plain": [
              "<Figure size 576x576 with 1 Axes>"
            ],
            "image/png": "[encoded data removed]"
          },
          "metadata": {
            "needs_background": "light"
          }
        }
      ]
    },
    {
      "cell_type": "markdown",
      "source": [
        "h: 노이즈를 줄여 R-squared 값이 감소(성능 강화)\n",
        "i: 노이즈를 늘려 R-squared 값이 증가(성능 약화)"
      ],
      "metadata": {
        "id": "bjEwsuthN9z_"
      }
    },
    {
      "cell_type": "code",
      "source": [
        "# j\n",
        "# original data set에 대한 회귀분석 결과\n",
        "model1 = smf.ols(formula='y ~ x', data=pd.DataFrame({'x':x, 'y':y})).fit()\n",
        "\n",
        "# noisier data set에 대한 회귀분석 결과\n",
        "np.random.seed(1)\n",
        "mu, sigma = 0, 0.5\n",
        "eps = np.random.normal(mu, sigma, 100)\n",
        "y_noisy = -1 + 0.5 * x + eps\n",
        "model2 = smf.ols(formula='y_noisy ~ x', data=pd.DataFrame({'x':x, 'y_noisy':y_noisy})).fit()\n",
        "\n",
        "# less noisy data set에 대한 회귀분석 결과\n",
        "np.random.seed(1)\n",
        "mu, sigma = 0, 0.05\n",
        "eps = np.random.normal(mu, sigma, 100)\n",
        "y_less_noisy = -1 + 0.5 * x + eps\n",
        "model3 = smf.ols(formula='y_less_noisy ~ x', data=pd.DataFrame({'x':x, 'y_less_noisy':y_less_noisy})).fit()\n",
        "\n",
        "# 각각의 회귀분석 결과에 대한 confidence interval 출력\n",
        "print('Original: beta_0: {:.3f}, {:.3f} ; beta_1: {:.3f}, {:.3f}'.format(*model1.conf_int(alpha=0.05).values.flatten()))\n",
        "print('Noisier: beta_0: {:.3f}, {:.3f} ; beta_1: {:.3f}, {:.3f}'.format(*model2.conf_int(alpha=0.05).values.flatten()))\n",
        "print('Less Noisy: beta_0: {:.3f}, {:.3f} ; beta_1: {:.3f}, {:.3f}'.format(*model3.conf_int(alpha=0.05).values.flatten()))"
      ],
      "metadata": {
        "id": "7ISuZ7F3N3Op"
      },
      "execution_count": null,
      "outputs": []
    },
    {
      "cell_type": "markdown",
      "source": [
        "분산을 늘리면 신뢰 구간도 커짐"
      ],
      "metadata": {
        "id": "8kLMFRQCPPpp"
      }
    }
  ],
  "metadata": {
    "kernelspec": {
      "display_name": "Python 3",
      "language": "python",
      "name": "python3"
    },
    "language_info": {
      "codemirror_mode": {
        "name": "ipython",
        "version": 3
      },
      "file_extension": ".py",
      "mimetype": "text/x-python",
      "name": "python",
      "nbconvert_exporter": "python",
      "pygments_lexer": "ipython3",
      "version": "3.9.6"
    },
    "orig_nbformat": 4,
    "vscode": {
      "interpreter": {
        "hash": "31f2aee4e71d21fbe5cf8b01ff0e069b9275f58929596ceb00d14d90e3e16cd6"
      }
    },
    "colab": {
      "provenance": [],
      "include_colab_link": true
    }
  },
  "nbformat": 4,
  "nbformat_minor": 0
}