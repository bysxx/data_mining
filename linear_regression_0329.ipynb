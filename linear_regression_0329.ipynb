{
  "cells": [
    {
      "cell_type": "markdown",
      "metadata": {
        "id": "view-in-github",
        "colab_type": "text"
      },
      "source": [
        "<a href=\"https://colab.research.google.com/github/bysxx/data_mining/blob/main/linear_regression_0329.ipynb\" target=\"_parent\"><img src=\"https://colab.research.google.com/assets/colab-badge.svg\" alt=\"Open In Colab\"/></a>"
      ]
    },
    {
      "cell_type": "markdown",
      "metadata": {
        "id": "KBHK2r1JGORf"
      },
      "source": [
        "**Q.1** \n",
        "\n",
        "Describe the null hypotheses to which the p-values given in Table 3.4 correspond. Explain what conclusions you can draw based on these p-values. Your explanation should be phrased in terms of sales, TV, radio, and newspaper, rather than in terms of the coefficients of the linear model.\n",
        "\n",
        "**A.**\n",
        "\n",
        "유의수준이 따로 정해져 있는 것은 아니나 TV, radio는 p-value가 매우 낮아 Sales와 관계가 없다는 귀무가설을 기각해 관계가 있을 가능성이 높고 newspaper는 귀무가설을 기각하지 못한다"
      ]
    },
    {
      "cell_type": "markdown",
      "metadata": {
        "id": "VpIEimnhGORi"
      },
      "source": [
        "**Q.3**\n",
        "\n",
        "Suppose we have a data set with five predictors, X1 = GPA, X2 = IQ,\n",
        "\n",
        "X3 = Gender (1 for Female and 0 for Male), X4 = Interaction between\n",
        "\n",
        "GPA and IQ, and X5 = Interaction between GPA and Gender. The\n",
        "\n",
        "response is starting salary after graduation (in thousands of dollars).\n",
        "\n",
        "Suppose we use least squares to fit the model, and get ˆβ0 = 50 , ˆβ1 =\n",
        "\n",
        "20, ˆβ2 = 0 .07, ˆβ3 = 35 , ˆβ4 = 0 .01, ˆβ5 = −10.\n",
        "\n",
        "(a) Which answer is correct, and why?\n",
        "\n",
        "i. For a fixed value of IQ and GPA, males earn more on average than females.\n",
        "\n",
        "ii. For a fixed value of IQ and GPA, females earn more on average than males.\n",
        "\n",
        "iii. For a fixed value of IQ and GPA, males earn more on average than females provided that the GPA is high enough.\n",
        "\n",
        "iv. For a fixed value of IQ and GPA, females earn more on average than males provided that the GPA is high enough.\n",
        "\n",
        "(b) Predict the salary of a female with IQ of 110 and a GPA of 4.0.\n",
        "\n",
        "(c) True or false: Since the coefficient for the GPA/IQ interaction term is very small, there is very little evidence of an interaction effect. Justify your answer\n",
        "\n",
        "```jsx\n",
        "def f(gpa, iq, gender):\n",
        "    return 50 + 20*gpa + 0.07*iq + 35*gender + 0.01*gpa*iq + (-10*gpa*gender)\n",
        "```\n",
        "\n",
        "**A.**\n",
        "\n",
        "(a) 정답은 iii로 GPA가 충분히 높다면 GPA와 gender의 상호작용 때문에 남자의 초봉이 더 높게 나타난다\n",
        "\n",
        "(b) 식에 gpa: 4.0, iq:110, gender: 1을 대입하면 \n",
        "\n",
        "50 + 20 * 4 + 0.07 * 110 + 35 * 1 + 0.01 * 4 * 110 + (-10) * 4 * 1  = 137.1\n",
        "\n",
        "137.1에 1000을 곱해 답은 $137100.0이다\n",
        "\n",
        "(c) 단순히 계수가 작다고해서  significance등을 고려해야하기 때문에 관계가 없다고 단정지을 수 없다."
      ]
    },
    {
      "cell_type": "markdown",
      "metadata": {
        "id": "iBhaG6z9GORj"
      },
      "source": [
        "**Q.11**\n",
        "this problem we will investigate the t-statistic for the null hypoth-esis H0 : β= 0 in simple linear regression without an intercept. To begin, we generate a predictor x and a response y as follows.\n",
        "\n",
        "```\n",
        "set.seed (1) \n",
        "x=rnorm (100) \n",
        "y=2*x+rnorm (100)\n",
        "```"
      ]
    },
    {
      "cell_type": "code",
      "execution_count": 65,
      "metadata": {
        "colab": {
          "base_uri": "https://localhost:8080/",
          "height": 283
        },
        "id": "QbDKvCCcGORk",
        "outputId": "e371d2e6-4b21-439e-d6bf-39599e9c8901"
      },
      "outputs": [
        {
          "output_type": "execute_result",
          "data": {
            "text/plain": [
              "<Axes: >"
            ]
          },
          "metadata": {},
          "execution_count": 65
        },
        {
          "output_type": "display_data",
          "data": {
            "text/plain": [
              "<Figure size 432x288 with 1 Axes>"
            ],
            "image/png": "[encoded data removed]"
          },
          "metadata": {
            "needs_background": "light"
          }
        }
      ],
      "source": [
        "import numpy as np\n",
        "import seaborn as sns\n",
        "import pandas as pd\n",
        "from sklearn.linear_model import LinearRegression\n",
        "\n",
        "np.random.seed(1)\n",
        "\n",
        "x = np.random.normal(size=100)\n",
        "y = 2*x + np.random.normal(size=100)\n",
        "df = pd.DataFrame({'x': x, 'y': y})\n",
        "sns.scatterplot(x=x, y=y, color=\"b\")"
      ]
    },
    {
      "cell_type": "code",
      "execution_count": 66,
      "metadata": {
        "colab": {
          "base_uri": "https://localhost:8080/"
        },
        "id": "f7v9i71LGORl",
        "outputId": "e4a5375e-ede7-43a9-d113-a9ac66978b52"
      },
      "outputs": [
        {
          "output_type": "stream",
          "name": "stdout",
          "text": [
            "                                 OLS Regression Results                                \n",
            "=======================================================================================\n",
            "Dep. Variable:                      y   R-squared (uncentered):                   0.798\n",
            "Model:                            OLS   Adj. R-squared (uncentered):              0.796\n",
            "Method:                 Least Squares   F-statistic:                              391.7\n",
            "Date:                Wed, 29 Mar 2023   Prob (F-statistic):                    3.46e-36\n",
            "Time:                        04:44:35   Log-Likelihood:                         -135.67\n",
            "No. Observations:                 100   AIC:                                      273.3\n",
            "Df Residuals:                      99   BIC:                                      275.9\n",
            "Df Model:                           1                                                  \n",
            "Covariance Type:            nonrobust                                                  \n",
            "==============================================================================\n",
            "                 coef    std err          t      P>|t|      [0.025      0.975]\n",
            "------------------------------------------------------------------------------\n",
            "x1             2.1067      0.106     19.792      0.000       1.896       2.318\n",
            "==============================================================================\n",
            "Omnibus:                        0.880   Durbin-Watson:                   2.106\n",
            "Prob(Omnibus):                  0.644   Jarque-Bera (JB):                0.554\n",
            "Skew:                          -0.172   Prob(JB):                        0.758\n",
            "Kurtosis:                       3.119   Cond. No.                         1.00\n",
            "==============================================================================\n",
            "\n",
            "Notes:\n",
            "[1] R² is computed without centering (uncentered) since the model does not contain a constant.\n",
            "[2] Standard Errors assume that the covariance matrix of the errors is correctly specified.\n"
          ]
        }
      ],
      "source": [
        "import statsmodels.api as sm\n",
        "\n",
        "# a\n",
        "model_yx = sm.OLS(y, x).fit()\n",
        "print(model_yx.summary())"
      ]
    },
    {
      "cell_type": "code",
      "execution_count": 67,
      "metadata": {
        "colab": {
          "base_uri": "https://localhost:8080/"
        },
        "id": "TPUnOjiXGORm",
        "outputId": "2542b7a4-4c91-416e-d577-887a2a70d739"
      },
      "outputs": [
        {
          "output_type": "stream",
          "name": "stdout",
          "text": [
            "                                 OLS Regression Results                                \n",
            "=======================================================================================\n",
            "Dep. Variable:                      y   R-squared (uncentered):                   0.798\n",
            "Model:                            OLS   Adj. R-squared (uncentered):              0.796\n",
            "Method:                 Least Squares   F-statistic:                              391.7\n",
            "Date:                Wed, 29 Mar 2023   Prob (F-statistic):                    3.46e-36\n",
            "Time:                        04:44:35   Log-Likelihood:                         -49.891\n",
            "No. Observations:                 100   AIC:                                      101.8\n",
            "Df Residuals:                      99   BIC:                                      104.4\n",
            "Df Model:                           1                                                  \n",
            "Covariance Type:            nonrobust                                                  \n",
            "==============================================================================\n",
            "                 coef    std err          t      P>|t|      [0.025      0.975]\n",
            "------------------------------------------------------------------------------\n",
            "x1             0.3789      0.019     19.792      0.000       0.341       0.417\n",
            "==============================================================================\n",
            "Omnibus:                        0.476   Durbin-Watson:                   2.166\n",
            "Prob(Omnibus):                  0.788   Jarque-Bera (JB):                0.631\n",
            "Skew:                           0.115   Prob(JB):                        0.729\n",
            "Kurtosis:                       2.685   Cond. No.                         1.00\n",
            "==============================================================================\n",
            "\n",
            "Notes:\n",
            "[1] R² is computed without centering (uncentered) since the model does not contain a constant.\n",
            "[2] Standard Errors assume that the covariance matrix of the errors is correctly specified.\n"
          ]
        }
      ],
      "source": [
        "# b\n",
        "model_xy = sm.OLS(x, y).fit()\n",
        "print(model_xy.summary())"
      ]
    },
    {
      "cell_type": "markdown",
      "metadata": {
        "id": "wj39fkIcKZwr"
      },
      "source": [
        "(c)\n",
        "\n",
        "(a)와 (b)의 결과 사이의 관계는 귀무가설(H0: β = 0)에 대한 t-검정 결과에 대한 것으로, 두 경우에서 t-검정 통계량과 p-값은 동일하다."
      ]
    },
    {
      "cell_type": "code",
      "execution_count": 68,
      "metadata": {
        "colab": {
          "base_uri": "https://localhost:8080/"
        },
        "id": "ycnGko3UKnxN",
        "outputId": "1a3984a2-db61-4569-a150-21c0cb71b7cf"
      },
      "outputs": [
        {
          "output_type": "stream",
          "name": "stdout",
          "text": [
            "t-statistic:  5.05265656136365\n"
          ]
        }
      ],
      "source": [
        "# d\n",
        "import numpy as np\n",
        "\n",
        "# 데이터 생성\n",
        "x = np.array([5, 7, 9, 11, 13])\n",
        "y = np.array([11, 13, 15, 17, 19])\n",
        "n = len(x)\n",
        "\n",
        "# 회귀분석 결과\n",
        "beta_hat = np.sum(x * y) / np.sum(x ** 2)\n",
        "se_beta_hat = np.sqrt(np.sum((y - beta_hat * x) ** 2) / (n - 1) / np.sum((x - np.mean(x)) ** 2))\n",
        "t_stat = beta_hat / se_beta_hat\n",
        "print(\"t-statistic: \", t_stat)"
      ]
    },
    {
      "cell_type": "code",
      "execution_count": 69,
      "metadata": {
        "colab": {
          "base_uri": "https://localhost:8080/"
        },
        "id": "efc6AQngKqhm",
        "outputId": "92958515-df13-4498-b0a6-1d11ec4aea89"
      },
      "outputs": [
        {
          "output_type": "stream",
          "name": "stdout",
          "text": [
            "                            OLS Regression Results                            \n",
            "==============================================================================\n",
            "Dep. Variable:                      y   R-squared:                       1.000\n",
            "Model:                            OLS   Adj. R-squared:                  1.000\n",
            "Method:                 Least Squares   F-statistic:                 4.089e+29\n",
            "Date:                Wed, 29 Mar 2023   Prob (F-statistic):           8.43e-45\n",
            "Time:                        04:44:35   Log-Likelihood:                 155.42\n",
            "No. Observations:                   5   AIC:                            -306.8\n",
            "Df Residuals:                       3   BIC:                            -307.6\n",
            "Df Model:                           1                                         \n",
            "Covariance Type:            nonrobust                                         \n",
            "==============================================================================\n",
            "                 coef    std err          t      P>|t|      [0.025      0.975]\n",
            "------------------------------------------------------------------------------\n",
            "const          6.0000   1.48e-14   4.07e+14      0.000       6.000       6.000\n",
            "x1             1.0000   1.56e-15   6.39e+14      0.000       1.000       1.000\n",
            "==============================================================================\n",
            "Omnibus:                          nan   Durbin-Watson:                   0.054\n",
            "Prob(Omnibus):                    nan   Jarque-Bera (JB):                0.642\n",
            "Skew:                           0.868   Prob(JB):                        0.725\n",
            "Kurtosis:                       2.729   Cond. No.                         31.8\n",
            "==============================================================================\n",
            "\n",
            "Notes:\n",
            "[1] Standard Errors assume that the covariance matrix of the errors is correctly specified.\n"
          ]
        },
        {
          "output_type": "stream",
          "name": "stderr",
          "text": [
            "/usr/local/lib/python3.9/dist-packages/statsmodels/stats/stattools.py:74: ValueWarning: omni_normtest is not valid with less than 8 observations; 5 samples were given.\n",
            "  warn(\"omni_normtest is not valid with less than 8 observations; %i \"\n"
          ]
        }
      ],
      "source": [
        "# e\n",
        "import numpy as np\n",
        "import matplotlib.pyplot as plt\n",
        "import pandas as pd\n",
        "import statsmodels.api as sm\n",
        "\n",
        "# 데이터 생성\n",
        "x = np.array([5, 7, 9, 11, 13])\n",
        "y = np.array([11, 13, 15, 17, 19])\n",
        "n = len(x)\n",
        "\n",
        "# 회귀분석 모델 적합\n",
        "model = sm.OLS(y, sm.add_constant(x))\n",
        "result = model.fit()\n",
        "\n",
        "# 결과 출력\n",
        "print(result.summary())"
      ]
    },
    {
      "cell_type": "code",
      "execution_count": 70,
      "metadata": {
        "colab": {
          "base_uri": "https://localhost:8080/",
          "height": 569
        },
        "id": "FBYubN5PKv5Z",
        "outputId": "51bf8f57-1c0f-4966-fb00-5390edf5ac12"
      },
      "outputs": [
        {
          "output_type": "execute_result",
          "data": {
            "text/plain": [
              "<matplotlib.legend.Legend at 0x7f9814c96070>"
            ]
          },
          "metadata": {},
          "execution_count": 70
        },
        {
          "output_type": "display_data",
          "data": {
            "text/plain": [
              "<Figure size 648x648 with 1 Axes>"
            ],
            "image/png": "[encoded data removed]"
          },
          "metadata": {
            "needs_background": "light"
          }
        }
      ],
      "source": [
        "# f\n",
        "plt.figure(figsize=(9, 9))\n",
        "\n",
        "beta_1 = np.sum((x - np.mean(x)) * (y - np.mean(y))) / np.sum((x - np.mean(x)) ** 2)\n",
        "\n",
        "# x와 y의 최소 제곱 회귀선 계수 계산\n",
        "b1, b0 = np.polyfit(x, y, deg=1)\n",
        "\n",
        "# x 범위에서의 최소 제곱 회귀선 계산\n",
        "x_plot = np.array([np.min(x), np.max(x)])\n",
        "y_plot = b0 + b1 * x_plot\n",
        "\n",
        "# x축과 y축 이름 설정\n",
        "plt.xlabel(\"x\")\n",
        "plt.ylabel(\"y\")\n",
        "\n",
        "# 산점도 그래프와 최소 제곱 회귀선 함께 그리기\n",
        "plt.plot(x, y, 'o', label=\"data\")\n",
        "plt.plot(x_plot, y_plot, label=\"least squares line\")\n",
        "\n",
        "# 모집단 회귀선 그리기\n",
        "plt.plot(x_plot, beta_1*x_plot, 'r', label=\"population regression line\")\n",
        "\n",
        "# 범례 추가\n",
        "plt.legend(loc=\"upper left\")"
      ]
    },
    {
      "cell_type": "markdown",
      "metadata": {
        "id": "UeFB3HQwKy-F"
      },
      "source": [
        "**Q.13** \n",
        "In this exercise you will create some simulated data and will fit simple linear regression models to it. Make sure to use set.seed(1) prior to starting part (a) to ensure consistent results."
      ]
    },
    {
      "cell_type": "code",
      "execution_count": 71,
      "metadata": {
        "id": "iM5AdKhdH-jO"
      },
      "outputs": [],
      "source": [
        "# 13-(a)\n",
        "np.random.seed(1)\n",
        "mu, sigma = 0, 1\n",
        "x = np.random.normal(mu, sigma, 100)"
      ]
    },
    {
      "cell_type": "code",
      "execution_count": 72,
      "metadata": {
        "id": "XBVZChRvIKof"
      },
      "outputs": [],
      "source": [
        "# b\n",
        "mu, sigma = 0, 0.25\n",
        "eps = np.random.normal(loc=0, scale=0.25, size=100)"
      ]
    },
    {
      "cell_type": "code",
      "execution_count": 73,
      "metadata": {
        "colab": {
          "base_uri": "https://localhost:8080/"
        },
        "id": "Y-I0TWAFI8yC",
        "outputId": "61dec364-abad-4783-9b52-61b35497c8c2"
      },
      "outputs": [
        {
          "output_type": "stream",
          "name": "stdout",
          "text": [
            "y length: 10.660986158906173\n"
          ]
        }
      ],
      "source": [
        "#(c)\n",
        "y = -1 + 0.5*x + eps\n",
        "beta_0 = -1\n",
        "beta_1 = 0.5\n",
        "print('y length: ' + str(np.linalg.norm(y)))"
      ]
    },
    {
      "cell_type": "code",
      "execution_count": 74,
      "metadata": {
        "colab": {
          "base_uri": "https://localhost:8080/",
          "height": 279
        },
        "id": "k7lLhuhoJFdb",
        "outputId": "00286b56-d37f-4c0c-966b-f0222c5f9aa6"
      },
      "outputs": [
        {
          "output_type": "display_data",
          "data": {
            "text/plain": [
              "<Figure size 432x288 with 1 Axes>"
            ],
            "image/png": "[encoded data removed]"
          },
          "metadata": {
            "needs_background": "light"
          }
        }
      ],
      "source": [
        "# d\n",
        "import matplotlib.pyplot as plt\n",
        "from sklearn.preprocessing import PolynomialFeatures\n",
        "\n",
        "plt.scatter(x, y)\n",
        "plt.xlabel(\"x\")\n",
        "plt.ylabel(\"y\")\n",
        "plt.show()"
      ]
    },
    {
      "cell_type": "code",
      "execution_count": 75,
      "metadata": {
        "colab": {
          "base_uri": "https://localhost:8080/"
        },
        "id": "kF27Y9kfLHzc",
        "outputId": "4007e3c1-feec-4c1b-80f2-96276ce96388"
      },
      "outputs": [
        {
          "output_type": "stream",
          "name": "stdout",
          "text": [
            "beta_hat_0: -0.9632466175754496, beta_hat_1: 0.5238567834127927\n",
            "Model: y_hat = -0.9632 + 0.5239x\n"
          ]
        }
      ],
      "source": [
        "# e\n",
        "X = x.reshape(-1, 1)\n",
        "reg = LinearRegression().fit(X, y)\n",
        "beta_hat_0 = reg.intercept_\n",
        "beta_hat_1 = reg.coef_[0]\n",
        "print(f\"beta_hat_0: {beta_hat_0}, beta_hat_1: {beta_hat_1}\")\n",
        "print(f\"Model: y_hat = {beta_hat_0:.4f} + {beta_hat_1:.4f}x\")"
      ]
    },
    {
      "cell_type": "code",
      "execution_count": 76,
      "metadata": {
        "colab": {
          "base_uri": "https://localhost:8080/",
          "height": 279
        },
        "id": "K0-4vww9LYrw",
        "outputId": "87cef9bf-2cfc-4aba-e4de-515715de7d2e"
      },
      "outputs": [
        {
          "output_type": "display_data",
          "data": {
            "text/plain": [
              "<Figure size 432x288 with 1 Axes>"
            ],
            "image/png": "[encoded data removed]"
          },
          "metadata": {
            "needs_background": "light"
          }
        }
      ],
      "source": [
        "# f\n",
        "plt.scatter(x, y)\n",
        "plt.plot(x, beta_hat_0 + beta_hat_1*x, color='red', label='Least Squares Line')\n",
        "plt.plot(x, beta_0 + beta_1*x, color='blue', label='Population Regression Line')\n",
        "plt.xlabel(\"x\")\n",
        "plt.ylabel(\"y\")\n",
        "plt.legend()\n",
        "plt.show()\n"
      ]
    },
    {
      "cell_type": "code",
      "execution_count": 77,
      "metadata": {
        "colab": {
          "base_uri": "https://localhost:8080/"
        },
        "id": "b9lV0vF6LzmT",
        "outputId": "baf36bb7-e952-4592-f9aa-a9f32cd24849"
      },
      "outputs": [
        {
          "output_type": "stream",
          "name": "stdout",
          "text": [
            "beta_0: -0.9662543007102566, beta_1: 0.5234049060536484, beta_2: 0.0038556502345629398\n"
          ]
        }
      ],
      "source": [
        "#g\n",
        "X_poly = PolynomialFeatures(degree=2, include_bias=False).fit_transform(X)\n",
        "reg_poly = LinearRegression().fit(X_poly, y)\n",
        "print(f\"beta_0: {reg_poly.intercept_}, beta_1: {reg_poly.coef_[0]}, beta_2: {reg_poly.coef_[1]}\")"
      ]
    },
    {
      "cell_type": "markdown",
      "metadata": {
        "id": "RThFu0nBOqei"
      },
      "source": [
        "p-value > 0.05로 통계적 유의미하지 않으며\n",
        "R-squared값은 0.68로\n",
        "\n",
        "모델을 개선한다고 할 수 없다"
      ]
    },
    {
      "cell_type": "code",
      "execution_count": 78,
      "metadata": {
        "colab": {
          "base_uri": "https://localhost:8080/",
          "height": 541
        },
        "id": "DX3UURKYM6PU",
        "outputId": "29d3356d-d917-446f-e5a8-5b4945eea698"
      },
      "outputs": [
        {
          "output_type": "display_data",
          "data": {
            "text/plain": [
              "<Figure size 432x288 with 1 Axes>"
            ],
            "image/png": "[encoded data removed]"
          },
          "metadata": {
            "needs_background": "light"
          }
        },
        {
          "output_type": "display_data",
          "data": {
            "text/plain": [
              "<Figure size 432x288 with 1 Axes>"
            ],
            "image/png": "[encoded data removed]"
          },
          "metadata": {
            "needs_background": "light"
          }
        }
      ],
      "source": [
        "#(h)\n",
        "eps_less_noise = np.random.normal(loc=0, scale=0.1, size=100)\n",
        "y_less_noise = -1 + 0.5*x + eps_less_noise\n",
        "\n",
        "plt.scatter(x, y_less_noise)\n",
        "plt.xlabel(\"x\")\n",
        "plt.ylabel(\"y_less_noise\")\n",
        "plt.show()\n",
        "\n",
        "X_less_noise = x.reshape(-1, 1)\n",
        "reg_less_noise = LinearRegression().fit(X_less_noise, y_less_noise)\n",
        "beta_hat_less_noise_0 = reg_less_noise.intercept_\n",
        "beta_hat_less_noise_1 = reg_less_noise.coef_[0]\n",
        "\n",
        "plt.scatter(x, y_less_noise)\n",
        "plt.plot(x, beta_hat_less_noise_0 + beta_hat_less_noise_1*x, color='red', label='Least Squares Line')\n",
        "plt.plot(x, beta_0 + beta_1*x, color='blue', label='Population Regression Line')\n",
        "plt.xlabel(\"x\")\n",
        "plt.ylabel(\"y_less_noise\")\n",
        "plt.legend()\n",
        "plt.show()\n"
      ]
    },
    {
      "cell_type": "code",
      "execution_count": 81,
      "metadata": {
        "colab": {
          "base_uri": "https://localhost:8080/",
          "height": 961
        },
        "id": "qfXK7DAjNxjK",
        "outputId": "0df83041-dc30-4403-b3d3-cd3f70acc03b"
      },
      "outputs": [
        {
          "output_type": "stream",
          "name": "stdout",
          "text": [
            "y length: 13.718980926171637\n",
            "                            OLS Regression Results                            \n",
            "==============================================================================\n",
            "Dep. Variable:                      y   R-squared:                       0.156\n",
            "Model:                            OLS   Adj. R-squared:                  0.147\n",
            "Method:                 Least Squares   F-statistic:                     18.09\n",
            "Date:                Wed, 29 Mar 2023   Prob (F-statistic):           4.81e-05\n",
            "Time:                        04:45:55   Log-Likelihood:                -133.18\n",
            "No. Observations:                 100   AIC:                             270.4\n",
            "Df Residuals:                      98   BIC:                             275.6\n",
            "Df Model:                           1                                         \n",
            "Covariance Type:            nonrobust                                         \n",
            "==============================================================================\n",
            "                 coef    std err          t      P>|t|      [0.025      0.975]\n",
            "------------------------------------------------------------------------------\n",
            "Intercept     -0.9044      0.093     -9.725      0.000      -1.089      -0.720\n",
            "x              0.3833      0.090      4.254      0.000       0.204       0.562\n",
            "==============================================================================\n",
            "Omnibus:                        3.152   Durbin-Watson:                   1.962\n",
            "Prob(Omnibus):                  0.207   Jarque-Bera (JB):                3.156\n",
            "Skew:                          -0.096   Prob(JB):                        0.206\n",
            "Kurtosis:                       3.849   Cond. No.                         1.10\n",
            "==============================================================================\n",
            "\n",
            "Notes:\n",
            "[1] Standard Errors assume that the covariance matrix of the errors is correctly specified.\n"
          ]
        },
        {
          "output_type": "display_data",
          "data": {
            "text/plain": [
              "<Figure size 576x576 with 1 Axes>"
            ],
            "image/png": "[encoded data removed]"
          },
          "metadata": {
            "needs_background": "light"
          }
        }
      ],
      "source": [
        "import statsmodels.formula.api as smf\n",
        "\n",
        "mu, sigma = 0, 1\n",
        "x = np.random.normal(mu, sigma, 100)\n",
        "\n",
        "# 노이즈를 늘림\n",
        "mu, sigma = 0, 1\n",
        "eps = np.random.normal(mu, sigma, 100)\n",
        "\n",
        "# generate y\n",
        "y = -1 + 0.5*x + eps\n",
        "print('y length: ' + str(np.linalg.norm(y)))\n",
        "\n",
        "# Fit model\n",
        "model = smf.ols(formula='y ~ x', data=pd.DataFrame({'x':x, 'y':y})).fit()\n",
        "print(model.summary())\n",
        "\n",
        "# Make predictions\n",
        "y_pred = model.predict()\n",
        "y_act  = -1+(0.5*x)\n",
        "\n",
        "# Plot results\n",
        "plt.figure(figsize=(8,8))\n",
        "ax = sns.scatterplot(x=x, y=y)\n",
        "plt.xlabel('x')\n",
        "plt.ylabel('y')\n",
        "ax.plot(x, model.predict(), color='r')\n",
        "ax.plot(x, -1+(0.5*x), color='y')\n",
        "ax.legend(['Least squares', 'Population regression']);"
      ]
    },
    {
      "cell_type": "markdown",
      "metadata": {
        "id": "bjEwsuthN9z_"
      },
      "source": [
        "h: 노이즈를 줄여 R-squared 값이 감소(성능 강화)\n",
        "i: 노이즈를 늘려 R-squared 값이 증가(성능 약화)"
      ]
    },
    {
      "cell_type": "code",
      "execution_count": 80,
      "metadata": {
        "colab": {
          "base_uri": "https://localhost:8080/"
        },
        "id": "7ISuZ7F3N3Op",
        "outputId": "d34c8af5-98c6-4d8a-c862-26960b5eb0b7"
      },
      "outputs": [
        {
          "output_type": "stream",
          "name": "stdout",
          "text": [
            "Confidence intervals for the original dataset:\n",
            "[[-1.07046182 -0.87053644]\n",
            " [ 0.27484047  0.46263329]]\n",
            "\n",
            "Confidence intervals for the less noisy dataset:\n",
            "[[-1.02006644 -0.91610581]\n",
            " [ 0.47653499  0.57418672]]\n",
            "\n",
            "Confidence intervals for the more noisy dataset:\n",
            "[[-1.25072559 -0.86581636]\n",
            " [ 0.28213864  0.64368948]]\n"
          ]
        }
      ],
      "source": [
        "import statsmodels.api as sm\n",
        "\n",
        "X = sm.add_constant(x)\n",
        "\n",
        "# 원래 데이터 세트\n",
        "model_original = sm.OLS(y, X).fit()\n",
        "ci_original = model_original.conf_int(alpha=0.05, cols=None)\n",
        "\n",
        "# 덜 노이즈가 있는 데이터 세트\n",
        "# 예를 들어, 표준 편차를 0.25로 설정\n",
        "eps_less_noise = np.random.normal(loc=0, scale=0.25, size=100)\n",
        "y_less_noise = -1 + 0.5 * x + eps_less_noise\n",
        "model_less_noise = sm.OLS(y_less_noise, X).fit()\n",
        "ci_less_noise = model_less_noise.conf_int(alpha=0.05, cols=None)\n",
        "\n",
        "# 더 노이즈가 있는 데이터 세트\n",
        "# 예를 들어, 표준 편차를 1로 설정\n",
        "eps_more_noise = np.random.normal(loc=0, scale=1, size=100)\n",
        "y_more_noise = -1 + 0.5 * x + eps_more_noise\n",
        "model_more_noise = sm.OLS(y_more_noise, X).fit()\n",
        "ci_more_noise = model_more_noise.conf_int(alpha=0.05, cols=None)\n",
        "\n",
        "print(\"Confidence intervals for the original dataset:\")\n",
        "print(ci_original)\n",
        "print(\"\\nConfidence intervals for the less noisy dataset:\")\n",
        "print(ci_less_noise)\n",
        "print(\"\\nConfidence intervals for the more noisy dataset:\")\n",
        "print(ci_more_noise) "
      ]
    },
    {
      "cell_type": "markdown",
      "metadata": {
        "id": "8kLMFRQCPPpp"
      },
      "source": [
        "분산을 늘리면 신뢰 구간도 커짐"
      ]
    }
  ],
  "metadata": {
    "colab": {
      "provenance": [],
      "include_colab_link": true
    },
    "kernelspec": {
      "display_name": "Python 3",
      "language": "python",
      "name": "python3"
    },
    "language_info": {
      "codemirror_mode": {
        "name": "ipython",
        "version": 3
      },
      "file_extension": ".py",
      "mimetype": "text/x-python",
      "name": "python",
      "nbconvert_exporter": "python",
      "pygments_lexer": "ipython3",
      "version": "3.9.6"
    },
    "orig_nbformat": 4,
    "vscode": {
      "interpreter": {
        "hash": "31f2aee4e71d21fbe5cf8b01ff0e069b9275f58929596ceb00d14d90e3e16cd6"
      }
    }
  },
  "nbformat": 4,
  "nbformat_minor": 0
}